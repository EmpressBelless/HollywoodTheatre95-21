{
 "cells": [
  {
   "cell_type": "code",
   "execution_count": 2,
   "id": "6da0e54c",
   "metadata": {},
   "outputs": [],
   "source": [
    "import pandas as pd\n",
    "import numpy as np"
   ]
  },
  {
   "cell_type": "code",
   "execution_count": 3,
   "id": "9c38bb45",
   "metadata": {},
   "outputs": [],
   "source": [
    "ticketsales = pd.read_csv('../AnnualTicketSales.csv')\n",
    "highestgrosser = pd.read_csv('../HighestGrossers.csv')\n",
    "poptypes = pd.read_csv('../PopularCreativeTypes.csv')\n",
    "topdist = pd.read_csv('../TopDistributors.csv')\n",
    "topgenres = pd.read_csv('../TopGenres.csv')\n",
    "topgrossratings = pd.read_csv('../TopGrossingRatings.csv')\n",
    "topgrossingsources = pd.read_csv('../TopGrossingSources.csv')\n",
    "topproductionmethods = pd.read_csv('../TopProductionMethods.csv')\n",
    "widerelease = pd.read_csv('../WideReleasesCount.csv')"
   ]
  },
  {
   "cell_type": "code",
   "execution_count": null,
   "id": "18eee53f",
   "metadata": {},
   "outputs": [],
   "source": []
  }
 ],
 "metadata": {
  "kernelspec": {
   "display_name": "Python 3",
   "language": "python",
   "name": "python3"
  },
  "language_info": {
   "codemirror_mode": {
    "name": "ipython",
    "version": 3
   },
   "file_extension": ".py",
   "mimetype": "text/x-python",
   "name": "python",
   "nbconvert_exporter": "python",
   "pygments_lexer": "ipython3",
   "version": "3.8.8"
  }
 },
 "nbformat": 4,
 "nbformat_minor": 5
}
